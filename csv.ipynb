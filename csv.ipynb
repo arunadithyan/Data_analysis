{
 "cells": [
  {
   "cell_type": "code",
   "execution_count": 1,
   "id": "cd39c6e9",
   "metadata": {},
   "outputs": [],
   "source": [
    "import pandas as pd\n",
    "import seaborn as sn"
   ]
  },
  {
   "cell_type": "code",
   "execution_count": 2,
   "id": "9c8c94bd",
   "metadata": {},
   "outputs": [],
   "source": [
    "steel=pd.read_csv(\"Steel_Export( In tonnes).csv\")"
   ]
  },
  {
   "cell_type": "code",
   "execution_count": 3,
   "id": "fde57c0a",
   "metadata": {},
   "outputs": [
    {
     "name": "stdout",
     "output_type": "stream",
     "text": [
      "<class 'pandas.core.frame.DataFrame'>\n",
      "RangeIndex: 19 entries, 0 to 18\n",
      "Data columns (total 7 columns):\n",
      " #   Column        Non-Null Count  Dtype \n",
      "---  ------        --------------  ----- \n",
      " 0   Category      19 non-null     object\n",
      " 1   Sub-Category  19 non-null     object\n",
      " 2   2013-14       19 non-null     int64 \n",
      " 3   2014-15       19 non-null     int64 \n",
      " 4   2015-16       19 non-null     int64 \n",
      " 5   2016-17       19 non-null     int64 \n",
      " 6   2017-18       19 non-null     int64 \n",
      "dtypes: int64(5), object(2)\n",
      "memory usage: 1.2+ KB\n"
     ]
    }
   ],
   "source": [
    "steel.info()"
   ]
  },
  {
   "cell_type": "code",
   "execution_count": 4,
   "id": "8f2b4441",
   "metadata": {},
   "outputs": [],
   "source": [
    "steelstr=pd.read_csv(\"steel_strength.csv\")"
   ]
  },
  {
   "cell_type": "code",
   "execution_count": 5,
   "id": "485e2bfc",
   "metadata": {},
   "outputs": [
    {
     "name": "stdout",
     "output_type": "stream",
     "text": [
      "<class 'pandas.core.frame.DataFrame'>\n",
      "RangeIndex: 312 entries, 0 to 311\n",
      "Data columns (total 17 columns):\n",
      " #   Column            Non-Null Count  Dtype  \n",
      "---  ------            --------------  -----  \n",
      " 0   formula           312 non-null    object \n",
      " 1   c                 312 non-null    float64\n",
      " 2   mn                312 non-null    float64\n",
      " 3   si                312 non-null    float64\n",
      " 4   cr                312 non-null    float64\n",
      " 5   ni                312 non-null    float64\n",
      " 6   mo                312 non-null    float64\n",
      " 7   v                 312 non-null    float64\n",
      " 8   n                 312 non-null    float64\n",
      " 9   nb                312 non-null    float64\n",
      " 10  co                312 non-null    float64\n",
      " 11  w                 312 non-null    float64\n",
      " 12  al                312 non-null    float64\n",
      " 13  ti                312 non-null    float64\n",
      " 14  yield strength    312 non-null    float64\n",
      " 15  tensile strength  312 non-null    float64\n",
      " 16  elongation        303 non-null    float64\n",
      "dtypes: float64(16), object(1)\n",
      "memory usage: 41.6+ KB\n"
     ]
    }
   ],
   "source": [
    "steelstr.info()"
   ]
  },
  {
   "cell_type": "code",
   "execution_count": 6,
   "id": "c2c085fe",
   "metadata": {},
   "outputs": [
    {
     "data": {
      "text/plain": [
       "formula             0\n",
       "c                   0\n",
       "mn                  0\n",
       "si                  0\n",
       "cr                  0\n",
       "ni                  0\n",
       "mo                  0\n",
       "v                   0\n",
       "n                   0\n",
       "nb                  0\n",
       "co                  0\n",
       "w                   0\n",
       "al                  0\n",
       "ti                  0\n",
       "yield strength      0\n",
       "tensile strength    0\n",
       "elongation          9\n",
       "dtype: int64"
      ]
     },
     "execution_count": 6,
     "metadata": {},
     "output_type": "execute_result"
    }
   ],
   "source": [
    "steelstr.isnull().sum()"
   ]
  },
  {
   "cell_type": "code",
   "execution_count": 7,
   "id": "4aba7e10",
   "metadata": {},
   "outputs": [
    {
     "data": {
      "text/plain": [
       "Category        0\n",
       "Sub-Category    0\n",
       "2013-14         0\n",
       "2014-15         0\n",
       "2015-16         0\n",
       "2016-17         0\n",
       "2017-18         0\n",
       "dtype: int64"
      ]
     },
     "execution_count": 7,
     "metadata": {},
     "output_type": "execute_result"
    }
   ],
   "source": [
    "steel.isnull().sum()"
   ]
  },
  {
   "cell_type": "code",
   "execution_count": 8,
   "id": "a084fb4f",
   "metadata": {},
   "outputs": [
    {
     "data": {
      "text/html": [
       "<div>\n",
       "<style scoped>\n",
       "    .dataframe tbody tr th:only-of-type {\n",
       "        vertical-align: middle;\n",
       "    }\n",
       "\n",
       "    .dataframe tbody tr th {\n",
       "        vertical-align: top;\n",
       "    }\n",
       "\n",
       "    .dataframe thead th {\n",
       "        text-align: right;\n",
       "    }\n",
       "</style>\n",
       "<table border=\"1\" class=\"dataframe\">\n",
       "  <thead>\n",
       "    <tr style=\"text-align: right;\">\n",
       "      <th></th>\n",
       "      <th>Category</th>\n",
       "      <th>Sub-Category</th>\n",
       "      <th>2013-14</th>\n",
       "      <th>2014-15</th>\n",
       "      <th>2015-16</th>\n",
       "      <th>2016-17</th>\n",
       "      <th>2017-18</th>\n",
       "    </tr>\n",
       "  </thead>\n",
       "  <tbody>\n",
       "    <tr>\n",
       "      <th>0</th>\n",
       "      <td>Non-Alloy Finished Steel</td>\n",
       "      <td>Non-Flat Products of Non-Alloy Finished Steel</td>\n",
       "      <td>585</td>\n",
       "      <td>392</td>\n",
       "      <td>365</td>\n",
       "      <td>629</td>\n",
       "      <td>2042</td>\n",
       "    </tr>\n",
       "    <tr>\n",
       "      <th>1</th>\n",
       "      <td>Non-Alloy Finished Steel</td>\n",
       "      <td>Non-Flat Products of Non-Alloy Finished Steel</td>\n",
       "      <td>65</td>\n",
       "      <td>83</td>\n",
       "      <td>81</td>\n",
       "      <td>160</td>\n",
       "      <td>173</td>\n",
       "    </tr>\n",
       "    <tr>\n",
       "      <th>2</th>\n",
       "      <td>Non-Alloy Finished Steel</td>\n",
       "      <td>Non-Flat Products of Non-Alloy Finished Steel</td>\n",
       "      <td>1</td>\n",
       "      <td>3</td>\n",
       "      <td>2</td>\n",
       "      <td>83</td>\n",
       "      <td>43</td>\n",
       "    </tr>\n",
       "    <tr>\n",
       "      <th>3</th>\n",
       "      <td>Non-Alloy Finished Steel</td>\n",
       "      <td>Non-Flat Products of Non-Alloy Finished Steel</td>\n",
       "      <td>651</td>\n",
       "      <td>478</td>\n",
       "      <td>448</td>\n",
       "      <td>872</td>\n",
       "      <td>2258</td>\n",
       "    </tr>\n",
       "    <tr>\n",
       "      <th>4</th>\n",
       "      <td>Non-Alloy Finished Steel</td>\n",
       "      <td>Flat Products of Non-Alloy Finished Steel</td>\n",
       "      <td>155</td>\n",
       "      <td>559</td>\n",
       "      <td>266</td>\n",
       "      <td>301</td>\n",
       "      <td>491</td>\n",
       "    </tr>\n",
       "  </tbody>\n",
       "</table>\n",
       "</div>"
      ],
      "text/plain": [
       "                   Category                                   Sub-Category  \\\n",
       "0  Non-Alloy Finished Steel  Non-Flat Products of Non-Alloy Finished Steel   \n",
       "1  Non-Alloy Finished Steel  Non-Flat Products of Non-Alloy Finished Steel   \n",
       "2  Non-Alloy Finished Steel  Non-Flat Products of Non-Alloy Finished Steel   \n",
       "3  Non-Alloy Finished Steel  Non-Flat Products of Non-Alloy Finished Steel   \n",
       "4  Non-Alloy Finished Steel      Flat Products of Non-Alloy Finished Steel   \n",
       "\n",
       "   2013-14  2014-15  2015-16  2016-17  2017-18  \n",
       "0      585      392      365      629     2042  \n",
       "1       65       83       81      160      173  \n",
       "2        1        3        2       83       43  \n",
       "3      651      478      448      872     2258  \n",
       "4      155      559      266      301      491  "
      ]
     },
     "execution_count": 8,
     "metadata": {},
     "output_type": "execute_result"
    }
   ],
   "source": [
    "steel.head()"
   ]
  },
  {
   "cell_type": "code",
   "execution_count": 9,
   "id": "1b170e86",
   "metadata": {},
   "outputs": [
    {
     "data": {
      "text/html": [
       "<div>\n",
       "<style scoped>\n",
       "    .dataframe tbody tr th:only-of-type {\n",
       "        vertical-align: middle;\n",
       "    }\n",
       "\n",
       "    .dataframe tbody tr th {\n",
       "        vertical-align: top;\n",
       "    }\n",
       "\n",
       "    .dataframe thead th {\n",
       "        text-align: right;\n",
       "    }\n",
       "</style>\n",
       "<table border=\"1\" class=\"dataframe\">\n",
       "  <thead>\n",
       "    <tr style=\"text-align: right;\">\n",
       "      <th></th>\n",
       "      <th>formula</th>\n",
       "      <th>c</th>\n",
       "      <th>mn</th>\n",
       "      <th>si</th>\n",
       "      <th>cr</th>\n",
       "      <th>ni</th>\n",
       "      <th>mo</th>\n",
       "      <th>v</th>\n",
       "      <th>n</th>\n",
       "      <th>nb</th>\n",
       "      <th>co</th>\n",
       "      <th>w</th>\n",
       "      <th>al</th>\n",
       "      <th>ti</th>\n",
       "      <th>yield strength</th>\n",
       "      <th>tensile strength</th>\n",
       "      <th>elongation</th>\n",
       "    </tr>\n",
       "  </thead>\n",
       "  <tbody>\n",
       "    <tr>\n",
       "      <th>0</th>\n",
       "      <td>Fe0.620C0.000953Mn0.000521Si0.00102Cr0.000110N...</td>\n",
       "      <td>0.02</td>\n",
       "      <td>0.05</td>\n",
       "      <td>0.05</td>\n",
       "      <td>0.01</td>\n",
       "      <td>19.70</td>\n",
       "      <td>2.95</td>\n",
       "      <td>0.01</td>\n",
       "      <td>0.00</td>\n",
       "      <td>0.01</td>\n",
       "      <td>15.00</td>\n",
       "      <td>0.00</td>\n",
       "      <td>0.15</td>\n",
       "      <td>1.55</td>\n",
       "      <td>2411.5</td>\n",
       "      <td>2473.5</td>\n",
       "      <td>7.0</td>\n",
       "    </tr>\n",
       "    <tr>\n",
       "      <th>1</th>\n",
       "      <td>Fe0.623C0.00854Mn0.000104Si0.000203Cr0.147Ni0....</td>\n",
       "      <td>0.18</td>\n",
       "      <td>0.01</td>\n",
       "      <td>0.01</td>\n",
       "      <td>13.44</td>\n",
       "      <td>0.01</td>\n",
       "      <td>3.01</td>\n",
       "      <td>0.46</td>\n",
       "      <td>0.04</td>\n",
       "      <td>0.01</td>\n",
       "      <td>19.46</td>\n",
       "      <td>2.35</td>\n",
       "      <td>0.04</td>\n",
       "      <td>0.00</td>\n",
       "      <td>1123.1</td>\n",
       "      <td>1929.2</td>\n",
       "      <td>8.0</td>\n",
       "    </tr>\n",
       "    <tr>\n",
       "      <th>2</th>\n",
       "      <td>Fe0.625Mn0.000102Si0.000200Cr0.0936Ni0.129Mo0....</td>\n",
       "      <td>0.00</td>\n",
       "      <td>0.01</td>\n",
       "      <td>0.01</td>\n",
       "      <td>8.67</td>\n",
       "      <td>13.45</td>\n",
       "      <td>0.82</td>\n",
       "      <td>0.01</td>\n",
       "      <td>0.00</td>\n",
       "      <td>0.01</td>\n",
       "      <td>13.90</td>\n",
       "      <td>0.00</td>\n",
       "      <td>0.39</td>\n",
       "      <td>0.57</td>\n",
       "      <td>1736.3</td>\n",
       "      <td>1871.8</td>\n",
       "      <td>NaN</td>\n",
       "    </tr>\n",
       "    <tr>\n",
       "      <th>3</th>\n",
       "      <td>Fe0.634C0.000478Mn0.000523Si0.00102Cr0.000111N...</td>\n",
       "      <td>0.01</td>\n",
       "      <td>0.05</td>\n",
       "      <td>0.05</td>\n",
       "      <td>0.01</td>\n",
       "      <td>17.70</td>\n",
       "      <td>3.95</td>\n",
       "      <td>0.01</td>\n",
       "      <td>0.00</td>\n",
       "      <td>0.01</td>\n",
       "      <td>15.00</td>\n",
       "      <td>0.00</td>\n",
       "      <td>0.13</td>\n",
       "      <td>1.47</td>\n",
       "      <td>2487.3</td>\n",
       "      <td>2514.9</td>\n",
       "      <td>9.0</td>\n",
       "    </tr>\n",
       "    <tr>\n",
       "      <th>4</th>\n",
       "      <td>Fe0.636C0.000474Mn0.000518Si0.00101Cr0.000109N...</td>\n",
       "      <td>0.01</td>\n",
       "      <td>0.05</td>\n",
       "      <td>0.05</td>\n",
       "      <td>0.01</td>\n",
       "      <td>19.40</td>\n",
       "      <td>1.45</td>\n",
       "      <td>0.01</td>\n",
       "      <td>0.00</td>\n",
       "      <td>0.01</td>\n",
       "      <td>14.90</td>\n",
       "      <td>0.00</td>\n",
       "      <td>0.13</td>\n",
       "      <td>1.55</td>\n",
       "      <td>2249.6</td>\n",
       "      <td>2315.0</td>\n",
       "      <td>8.5</td>\n",
       "    </tr>\n",
       "  </tbody>\n",
       "</table>\n",
       "</div>"
      ],
      "text/plain": [
       "                                             formula     c    mn    si     cr  \\\n",
       "0  Fe0.620C0.000953Mn0.000521Si0.00102Cr0.000110N...  0.02  0.05  0.05   0.01   \n",
       "1  Fe0.623C0.00854Mn0.000104Si0.000203Cr0.147Ni0....  0.18  0.01  0.01  13.44   \n",
       "2  Fe0.625Mn0.000102Si0.000200Cr0.0936Ni0.129Mo0....  0.00  0.01  0.01   8.67   \n",
       "3  Fe0.634C0.000478Mn0.000523Si0.00102Cr0.000111N...  0.01  0.05  0.05   0.01   \n",
       "4  Fe0.636C0.000474Mn0.000518Si0.00101Cr0.000109N...  0.01  0.05  0.05   0.01   \n",
       "\n",
       "      ni    mo     v     n    nb     co     w    al    ti  yield strength  \\\n",
       "0  19.70  2.95  0.01  0.00  0.01  15.00  0.00  0.15  1.55          2411.5   \n",
       "1   0.01  3.01  0.46  0.04  0.01  19.46  2.35  0.04  0.00          1123.1   \n",
       "2  13.45  0.82  0.01  0.00  0.01  13.90  0.00  0.39  0.57          1736.3   \n",
       "3  17.70  3.95  0.01  0.00  0.01  15.00  0.00  0.13  1.47          2487.3   \n",
       "4  19.40  1.45  0.01  0.00  0.01  14.90  0.00  0.13  1.55          2249.6   \n",
       "\n",
       "   tensile strength  elongation  \n",
       "0            2473.5         7.0  \n",
       "1            1929.2         8.0  \n",
       "2            1871.8         NaN  \n",
       "3            2514.9         9.0  \n",
       "4            2315.0         8.5  "
      ]
     },
     "execution_count": 9,
     "metadata": {},
     "output_type": "execute_result"
    }
   ],
   "source": [
    "steelstr.head()"
   ]
  },
  {
   "cell_type": "code",
   "execution_count": 10,
   "id": "a36f71c8",
   "metadata": {},
   "outputs": [
    {
     "data": {
      "text/plain": [
       "(19, 7)"
      ]
     },
     "execution_count": 10,
     "metadata": {},
     "output_type": "execute_result"
    }
   ],
   "source": [
    "steel.shape"
   ]
  },
  {
   "cell_type": "code",
   "execution_count": 11,
   "id": "62384d73",
   "metadata": {},
   "outputs": [
    {
     "data": {
      "text/plain": [
       "0.01     54\n",
       "10.30    10\n",
       "18.10     9\n",
       "0.95      9\n",
       "10.20     8\n",
       "         ..\n",
       "9.20      1\n",
       "8.32      1\n",
       "4.18      1\n",
       "10.15     1\n",
       "15.20     1\n",
       "Name: ni, Length: 150, dtype: int64"
      ]
     },
     "execution_count": 11,
     "metadata": {},
     "output_type": "execute_result"
    }
   ],
   "source": [
    "steelstr[\"ni\"].value_counts()"
   ]
  },
  {
   "cell_type": "code",
   "execution_count": 12,
   "id": "b37edfdd",
   "metadata": {},
   "outputs": [
    {
     "data": {
      "text/plain": [
       "16.0    19\n",
       "12.0    15\n",
       "18.0    14\n",
       "15.0    12\n",
       "14.0    10\n",
       "        ..\n",
       "12.9     1\n",
       "14.1     1\n",
       "20.8     1\n",
       "21.8     1\n",
       "19.7     1\n",
       "Name: elongation, Length: 98, dtype: int64"
      ]
     },
     "execution_count": 12,
     "metadata": {},
     "output_type": "execute_result"
    }
   ],
   "source": [
    "steelstr[\"elongation\"].value_counts()       "
   ]
  },
  {
   "cell_type": "code",
   "execution_count": 14,
   "id": "8483d2f7",
   "metadata": {},
   "outputs": [],
   "source": [
    "a=steelstr[\"elongation\"].mean()"
   ]
  },
  {
   "cell_type": "code",
   "execution_count": 17,
   "id": "52ee3cdc",
   "metadata": {},
   "outputs": [],
   "source": [
    "steelstr[\"elongation\"].fillna(a,inplace=True)"
   ]
  },
  {
   "cell_type": "code",
   "execution_count": 18,
   "id": "a398b8cc",
   "metadata": {},
   "outputs": [
    {
     "data": {
      "text/plain": [
       "0"
      ]
     },
     "execution_count": 18,
     "metadata": {},
     "output_type": "execute_result"
    }
   ],
   "source": [
    "steelstr[\"elongation\"].isnull().sum()"
   ]
  },
  {
   "cell_type": "code",
   "execution_count": null,
   "id": "c402a495",
   "metadata": {},
   "outputs": [],
   "source": []
  }
 ],
 "metadata": {
  "kernelspec": {
   "display_name": "Python 3",
   "language": "python",
   "name": "python3"
  },
  "language_info": {
   "codemirror_mode": {
    "name": "ipython",
    "version": 3
   },
   "file_extension": ".py",
   "mimetype": "text/x-python",
   "name": "python",
   "nbconvert_exporter": "python",
   "pygments_lexer": "ipython3",
   "version": "3.8.8"
  }
 },
 "nbformat": 4,
 "nbformat_minor": 5
}
